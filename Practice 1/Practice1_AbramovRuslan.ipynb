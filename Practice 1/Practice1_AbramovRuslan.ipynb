{
 "cells": [
  {
   "cell_type": "markdown",
   "id": "6b3c2e28-295c-4940-872f-38039a72bb2e",
   "metadata": {},
   "source": [
    "# Практическая работа №1"
   ]
  },
  {
   "cell_type": "markdown",
   "id": "ce42e58a-a6fb-4f10-bd39-9a072aa4319f",
   "metadata": {},
   "source": [
    "## Тема: «Основные возможности языка Python»"
   ]
  },
  {
   "cell_type": "markdown",
   "id": "d56906f0-b413-46e4-bec2-89c5b3d4479f",
   "metadata": {},
   "source": [
    "### Выполнил студент: Абрамов Руслан Закирович"
   ]
  },
  {
   "cell_type": "markdown",
   "id": "724f2115-af72-48d1-bb4c-d04eb06811a7",
   "metadata": {},
   "source": [
    "### ВАРИАНТ: 1"
   ]
  },
  {
   "cell_type": "markdown",
   "id": "6d244c1c-7376-44d4-b703-13b40f112ebb",
   "metadata": {},
   "source": [
    "### Задание 1. Расчеты арифметических выражений"
   ]
  },
  {
   "cell_type": "markdown",
   "id": "d385b6e2-c14e-476a-b6a9-1c6acf374247",
   "metadata": {},
   "source": [
    "УСЛОВИЕ: Написать программу на Python в Notebook Jupiter, которая запрашивает данные с клавиатуры и вычисляет арифметическое выражение по вариантам. Произвести проверку выражения в Excel. "
   ]
  },
  {
   "cell_type": "markdown",
   "id": "bb72c392-74c2-431d-bad9-c7c9e19d01ec",
   "metadata": {},
   "source": [
    "$$z=(\\frac{3+\\frac{x}{y}}{\\frac{2a}{x}}) - \\frac{3xa + 2a + ay}{3a+2x-y} + 10ya$$"
   ]
  },
  {
   "cell_type": "code",
   "execution_count": 4,
   "id": "3c0faaa3-d591-49e4-9705-997fab8a35df",
   "metadata": {},
   "outputs": [
    {
     "name": "stdin",
     "output_type": "stream",
     "text": [
      "Введите переменную a = 2\n",
      "Введите переменную x = 5\n",
      "Введите переменную y = 1\n"
     ]
    },
    {
     "name": "stdout",
     "output_type": "stream",
     "text": [
      "z= 27.6\n"
     ]
    }
   ],
   "source": [
    "a = float(input(\"Введите переменную a =\"))\n",
    "x = float(input(\"Введите переменную x =\"))\n",
    "y = float(input(\"Введите переменную y =\"))\n",
    "z = ((3 + x/y) / (2*a/x)) - (3*x*a + 2*a + a*y) / (3*a + 2*x - y) + 10*y*a\n",
    "print(\"z =\", z)"
   ]
  },
  {
   "cell_type": "markdown",
   "id": "fd5ea9d1-d729-4d93-a0c9-9506277181a0",
   "metadata": {},
   "source": [
    "## Задание 2. Расчеты математических выражений"
   ]
  },
  {
   "cell_type": "markdown",
   "id": "68ee9b75-0187-48b8-a458-cfa185841058",
   "metadata": {},
   "source": [
    "УСЛОВИЕ: Написать программу на Python в Notebook Jupiter, которая запрашивает данные с клавиатуры и вычисляет арифметическое выражение по вариантам. Произвести проверку выражения в Excel. "
   ]
  },
  {
   "cell_type": "markdown",
   "id": "17aaf56d-090a-413e-aa7d-0c337d6c3e13",
   "metadata": {},
   "source": [
    "\n",
    "$$z=\\frac{\\cos{x}+\\sqrt{b^2+4ac}}{2a} - a^3c+b^{-2}$$ "
   ]
  },
  {
   "cell_type": "code",
   "execution_count": 9,
   "id": "1e768614-c830-45bd-ac93-e3164695bcc2",
   "metadata": {},
   "outputs": [
    {
     "name": "stdin",
     "output_type": "stream",
     "text": [
      "Введите переменную a= 6\n",
      "Введите переменную b= 4\n",
      "Введите переменную c= 2\n",
      "Введите переменную x= 0\n"
     ]
    },
    {
     "name": "stdout",
     "output_type": "stream",
     "text": [
      "z = -431.1875\n"
     ]
    }
   ],
   "source": [
    "import math\n",
    "\n",
    "a = float(input(\"Введите переменную a=\"))\n",
    "b = float(input(\"Введите переменную b=\"))\n",
    "c = float(input(\"Введите переменную c=\"))\n",
    "x = float(input(\"Введите переменную x=\"))\n",
    "z = (math.cos(x) + math.sqrt(b**2 + 4*a*c)) / (2*a) - a**3*c + b**(-2)\n",
    "print(\"z =\", z)"
   ]
  },
  {
   "cell_type": "markdown",
   "id": "b1591f7e-da7e-4d14-8544-b5801917cfd9",
   "metadata": {},
   "source": [
    "## Задание 3. Логические вычисления"
   ]
  },
  {
   "attachments": {
    "8c5e0592-3e92-4d64-9781-f64056d0ad12.png": {
     "image/png": "[encoded data removed]"
    }
   },
   "cell_type": "markdown",
   "id": "3a524982-9004-4296-ad05-7a5e1994e414",
   "metadata": {},
   "source": [
    "![image.png](attachment:8c5e0592-3e92-4d64-9781-f64056d0ad12.png)"
   ]
  },
  {
   "cell_type": "markdown",
   "id": "5db2c25e-8258-4d11-b376-b7b6abd365ab",
   "metadata": {},
   "source": [
    "УСЛОВИЕ: Написать программу на Python в Notebook Jupiter, которая запрашивает целые значения с клавиатуры и вычисляет находится ли точка с координатами X,Y в заштрихованной области по вариантам."
   ]
  },
  {
   "cell_type": "code",
   "execution_count": 13,
   "id": "89456abd-e5ed-409b-a9b2-ab87c035bc23",
   "metadata": {},
   "outputs": [
    {
     "name": "stdin",
     "output_type": "stream",
     "text": [
      "Введите x= 8\n",
      "Введите y= 10\n"
     ]
    },
    {
     "name": "stdout",
     "output_type": "stream",
     "text": [
      "Находится\n"
     ]
    }
   ],
   "source": [
    "x=int(input(\"Введите x=\"))\n",
    "y=int(input(\"Введите y=\"))\n",
    "if (y==3 or y==4) and (x>=3 and x<=5 or x==9 or x==12):\n",
    "    print(\"Находится\")\n",
    "elif y==5 and (x>=5 and x<=12 ):\n",
    "    print(\"Находится\")\n",
    "elif y==6 and (x>=5 and x<=13):\n",
    "    print(\"Находится\")\n",
    "elif y==7 and (x>=3 and x<=13 ):\n",
    "    print(\"Находится\")\n",
    "elif y==8 and (x>=6 and x<=8 or x==12 or x==13):\n",
    "    print(\"Находится\")\n",
    "elif (y==9 or y==10) and (x>=6 and x<=8 or x==12):\n",
    "    print(\"Находится\")\n",
    "elif y==11 and (x>=3 and x<=8 or x==12):\n",
    "    print(\"Находится\")\n",
    "elif y==12 and (x==4 or x>=7 and x<=8):\n",
    "    print(\"Находится\")\n",
    "elif y==13 and x==4:\n",
    "    print(\"Находится\")\n",
    "else:\n",
    "    print(\"Не находится\")"
   ]
  },
  {
   "cell_type": "markdown",
   "id": "c9999ae0-a623-437f-85fa-799b3bc75c66",
   "metadata": {},
   "source": [
    "## Задание 4. Логические вычисления"
   ]
  },
  {
   "attachments": {
    "d47ab40a-c7bf-4e0c-a611-4095c66a014d.png": {
     "image/png": "[encoded data removed]"
    }
   },
   "cell_type": "markdown",
   "id": "95b48e61-bdfa-4231-a1a4-0bb8a9408060",
   "metadata": {},
   "source": [
    "![image.png](attachment:d47ab40a-c7bf-4e0c-a611-4095c66a014d.png)"
   ]
  },
  {
   "cell_type": "markdown",
   "id": "21d01b3f-95fe-43d0-8ea7-84a3e42b6439",
   "metadata": {},
   "source": [
    "УСЛОВИЕ: Написать программу на Python в Notebook Jupiter, которая запрашивает вещественные значения с клавиатуры и вычисляет находится ли точка с координатами X,Y в заштрихованной области ограниченная линиями по вариантам"
   ]
  },
  {
   "cell_type": "code",
   "execution_count": 8,
   "id": "71353872-4594-408a-939c-6b4b98032537",
   "metadata": {},
   "outputs": [
    {
     "name": "stdin",
     "output_type": "stream",
     "text": [
      "Введите x= 0.5\n",
      "Введите y= 0.2\n"
     ]
    },
    {
     "name": "stdout",
     "output_type": "stream",
     "text": [
      "Да\n"
     ]
    }
   ],
   "source": [
    "x=float(input(\"Введите x=\"))\n",
    "y=float(input(\"Введите y=\"))\n",
    "if x**2 + y**2 <= 1 and y>=-x and y<=x and 0 <= y <= 1:    \n",
    "    print(\"Да\")\n",
    "else:\n",
    "    print(\"Нет\")"
   ]
  },
  {
   "cell_type": "markdown",
   "id": "b4236a41-d014-489e-bf06-ce13255c0e12",
   "metadata": {},
   "source": [
    "## Задание 5. Вычисление циклических процессов"
   ]
  },
  {
   "cell_type": "markdown",
   "id": "cdef6939-2c05-4ad4-872e-51e2f19afc2b",
   "metadata": {},
   "source": [
    "УСЛОВИЕ: Написать программу на Python в Notebook Jupiter, которая выводит таблицу значений функции (произвести табулирование) f(x) на заданном диапазоне X1, X2 и с заданным шагом S. Переменные X1, X2, S – вещественные. Произвести проверку деления на ноль. \n",
    "Произвести проверку выражения в Excel."
   ]
  },
  {
   "cell_type": "markdown",
   "id": "c12fee4f-8331-4cdd-a016-b5918bb4d526",
   "metadata": {},
   "source": [
    "$$f(x)=\\frac{x^2-cos{x}^2+ \\pi}{x^2-sin{x}^2+12} $$"
   ]
  },
  {
   "cell_type": "code",
   "execution_count": 47,
   "id": "1cf9d36c-d8cc-44c7-8d69-16ef9539e33b",
   "metadata": {},
   "outputs": [
    {
     "name": "stdout",
     "output_type": "stream",
     "text": [
      "Введите значение переменных:\n"
     ]
    },
    {
     "name": "stdin",
     "output_type": "stream",
     "text": [
      "Введите начальное значение X1: 1\n",
      "Введите конечное значение X2: 10\n",
      "Введите шаг S: 1\n"
     ]
    },
    {
     "name": "stdout",
     "output_type": "stream",
     "text": [
      "********************************************************\n",
      "Результат:\n",
      "+----------------+\n",
      "|  X  |     F(X) |\n",
      "+----------------+\n",
      "| 1.00|      0.31|\n",
      "| 2.00|      0.46|\n",
      "| 3.00|      0.53|\n",
      "| 4.00|      0.68|\n",
      "| 5.00|      0.78|\n",
      "| 6.00|      0.80|\n",
      "| 7.00|      0.85|\n",
      "| 8.00|      0.89|\n",
      "| 9.00|      0.90|\n",
      "|10.00|      0.92|\n",
      "+-------------------+\n",
      "********************************************************\n"
     ]
    }
   ],
   "source": [
    "import math as m\n",
    "y = []\n",
    "x = []\n",
    "print('Введите значение переменных:')\n",
    "X1 = int(input('Введите начальное значение X1:'))\n",
    "X2 = int(input('Введите конечное значение X2:'))\n",
    "S = float(input('Введите шаг S:'))\n",
    "print('********************************************************')\n",
    "print('Результат:')\n",
    "print('+----------------+')\n",
    "print('|  X  |     F(X) |')\n",
    "print('+----------------+')\n",
    "import math\n",
    "while(X1<=X2):\n",
    "    Y = (X1**2 - math.cos(X1)**2 + math.pi) / (X1**2 - math.sin(X1)**2 + 12)\n",
    "    y.append(Y)\n",
    "    x.append(X1)\n",
    "    print('|{:5.2f}|{:10.2f}|'.format(X1,Y))\n",
    "    X1 = X1 + S\n",
    "print('+-------------------+')\n",
    "print('********************************************************')"
   ]
  },
  {
   "cell_type": "markdown",
   "id": "a8d1d1a7-6f50-4816-a002-38cb1b128aa9",
   "metadata": {},
   "source": [
    "## Задание 6. Списки (одномерные массивы) в Python "
   ]
  },
  {
   "cell_type": "markdown",
   "id": "6e661f50-162a-404d-b6d2-7a553742e3cd",
   "metadata": {},
   "source": [
    "УСЛОВИЕ: Дан целочисленный одномерный массив на N элементов, заполненный случайными числами в заданном диапазоне (от n1 до n2) по возрастанию. Найти сумму элементов массива с номерами от K до L включительно. Произвести проверку на корректность ввода интервальных значений (n1<n2, K<L).\n"
   ]
  },
  {
   "cell_type": "code",
   "execution_count": 12,
   "id": "599849b7-5f08-44d5-99cd-47a9a708f13b",
   "metadata": {},
   "outputs": [
    {
     "name": "stdin",
     "output_type": "stream",
     "text": [
      "Введите количество элементов в массиве:  10\n"
     ]
    },
    {
     "name": "stdout",
     "output_type": "stream",
     "text": [
      "********************************************************\n",
      "ВВЕДИТЕ ДИАПАЗОН ЗНАЧЕНИЙ\n"
     ]
    },
    {
     "name": "stdin",
     "output_type": "stream",
     "text": [
      "Введите начальный диапазон:  -10\n",
      "Введите конечный диапазон:  10\n"
     ]
    },
    {
     "name": "stdout",
     "output_type": "stream",
     "text": [
      "********************************************************\n",
      "Сгенерированный одномерный массив\n",
      "0) -5\n",
      "1) -4\n",
      "2) -3\n",
      "3) -1\n",
      "4) 1\n",
      "5) 2\n",
      "6) 6\n",
      "7) 8\n",
      "8) 9\n",
      "9) 9\n",
      "********************************************************\n"
     ]
    },
    {
     "name": "stdin",
     "output_type": "stream",
     "text": [
      "Введите K:  3\n",
      "Введите L:  5\n"
     ]
    },
    {
     "name": "stdout",
     "output_type": "stream",
     "text": [
      "********************************************************\n",
      "3) -1\n",
      "4) 1\n",
      "5) 2\n",
      "********************************************************\n",
      "Сумма элементов с индексами от 3 до 5: 2\n"
     ]
    }
   ],
   "source": [
    "import random\n",
    "n = int(input(\"Введите количество элементов в массиве: \"))\n",
    "print(\"********************************************************\")\n",
    "print(\"ВВЕДИТЕ ДИАПАЗОН ЗНАЧЕНИЙ\")\n",
    "n1 = int(input(\"Введите начальный диапазон: \"))\n",
    "n2 = int(input(\"Введите конечный диапазон: \"))\n",
    "while n1 >= n2:\n",
    "    print('Ошибка, n1 должен быть меньше n2')\n",
    "    n1 = int(input(\"Введите начальный диапазон: \"))\n",
    "    n2 = int(input(\"Введите конечный диапазон: \"))\n",
    "print(\"********************************************************\")\n",
    "print(\"Сгенерированный одномерный массив\")\n",
    "arr = [random.randint(n1, n2) for _ in range(n)]\n",
    "arr.sort()\n",
    "for i, num in enumerate(arr):\n",
    "        print(f\"{i}) {num}\")\n",
    "print(\"********************************************************\")\n",
    "k = int(input(\"Введите K: \"))\n",
    "l = int(input(\"Введите L: \"))\n",
    "while k >= l:\n",
    "    print('Ошибка, K должен быть меньше L')\n",
    "    k = int(input(\"Введите K: \"))\n",
    "    l = int(input(\"Введите L: \"))\n",
    "print(\"********************************************************\")\n",
    "for i in range(k, l+1):\n",
    "            print(f\"{i}) {arr[i]}\")\n",
    "summ = sum(arr[k:l+1])\n",
    "print(\"********************************************************\")\n",
    "print(f\"Сумма элементов с индексами от {k} до {l}: {summ}\")"
   ]
  },
  {
   "cell_type": "markdown",
   "id": "cff3e82f-00d5-4004-b3c5-d75d8932b592",
   "metadata": {},
   "source": [
    "## Задание 7. Двумерные массивы (матрицы) в Python "
   ]
  },
  {
   "cell_type": "markdown",
   "id": "e61bd4f4-cca2-457b-b5b6-3e89f1207ba2",
   "metadata": {},
   "source": [
    "УСЛОВИЕ: Дан целочисленный двумерный массив N на M элементов, заполненный случайными числами в заданном диапазоне (от n1 до n2) по возрастанию значений в строках. Найти сумму элементов массива с номерами от K до L включительно в заданном столбце С. Произвести проверку на корректность ввода интервальных значений (n1<n2, K<L, С и т.д.).\n"
   ]
  },
  {
   "cell_type": "code",
   "execution_count": 51,
   "id": "a7f0b6d1-c886-463c-b60a-4db443fd4463",
   "metadata": {},
   "outputs": [
    {
     "name": "stdin",
     "output_type": "stream",
     "text": [
      "Введите количество строк N:  5\n",
      "Введите количество столбцов M:  5\n"
     ]
    },
    {
     "name": "stdout",
     "output_type": "stream",
     "text": [
      "********************************************************\n",
      "ВВЕДИТЕ ДИАПАЗОН ЗНАЧЕНИЙ\n"
     ]
    },
    {
     "name": "stdin",
     "output_type": "stream",
     "text": [
      "Введите начальный диапазон:  -10\n",
      "Введите конечный диапазон:  10\n"
     ]
    },
    {
     "name": "stdout",
     "output_type": "stream",
     "text": [
      "********************************************************\n",
      "Сгенерированный двумерный массив\n",
      "  -10   -10    -2     4     6\n",
      "   -7    -5    -1     0     0\n",
      "   -8    -7    -7     7     7\n",
      "  -10    -7    -3     5    10\n",
      "   -6    -3    -1    -1     7\n",
      "********************************************************\n"
     ]
    },
    {
     "name": "stdin",
     "output_type": "stream",
     "text": [
      "Введите K:  0\n",
      "Введите L:  2\n",
      "Введите столбец C:  2\n"
     ]
    },
    {
     "name": "stdout",
     "output_type": "stream",
     "text": [
      "-2\n",
      "-1\n",
      "-7\n",
      "********************************************************\n",
      "Сумма элементов в столбце 2 от 0 до 2: -10\n"
     ]
    }
   ],
   "source": [
    "import random\n",
    "n = int(input(\"Введите количество строк N: \"))\n",
    "m = int(input(\"Введите количество столбцов M: \"))\n",
    "print(\"********************************************************\")\n",
    "print(\"ВВЕДИТЕ ДИАПАЗОН ЗНАЧЕНИЙ\")\n",
    "n1 = int(input(\"Введите начальный диапазон: \"))\n",
    "n2 = int(input(\"Введите конечный диапазон: \"))\n",
    "while n1 >= n2:\n",
    "    print('Ошибка, n1 должен быть меньше n2')\n",
    "    n1 = int(input(\"Введите начальный диапазон: \"))\n",
    "    n2 = int(input(\"Введите конечный диапазон: \"))\n",
    "print(\"********************************************************\")\n",
    "print(\"Сгенерированный двумерный массив\")\n",
    "arr = [[random.randint(n1, n2) for _ in range(m)] for _ in range(n)]\n",
    "for i in range(n):\n",
    "    arr[i] = sorted(arr[i])\n",
    "for row in arr:\n",
    "    print(' '.join(f'{num:5}' for num in row))\n",
    "print(\"********************************************************\")\n",
    "k = int(input(\"Введите K: \"))\n",
    "l = int(input(\"Введите L: \"))\n",
    "c = int(input(\"Введите столбец C: \"))\n",
    "for i in range(k, l+1):\n",
    "    print(arr[i][c])\n",
    "print(\"********************************************************\")        \n",
    "summ = sum(arr[i][c] for i in range(k, l+1))\n",
    "print(f\"Сумма элементов в столбце {c} от {k} до {l}: {summ}\")"
   ]
  },
  {
   "cell_type": "code",
   "execution_count": null,
   "id": "ceb6bc41-3243-4084-8949-3168fca06d81",
   "metadata": {},
   "outputs": [],
   "source": []
  }
 ],
 "metadata": {
  "kernelspec": {
   "display_name": "Python 3 (ipykernel)",
   "language": "python",
   "name": "python3"
  },
  "language_info": {
   "codemirror_mode": {
    "name": "ipython",
    "version": 3
   },
   "file_extension": ".py",
   "mimetype": "text/x-python",
   "name": "python",
   "nbconvert_exporter": "python",
   "pygments_lexer": "ipython3",
   "version": "3.12.2"
  }
 },
 "nbformat": 4,
 "nbformat_minor": 5
}
